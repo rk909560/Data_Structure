{
  "nbformat": 4,
  "nbformat_minor": 0,
  "metadata": {
    "colab": {
      "provenance": []
    },
    "kernelspec": {
      "name": "python3",
      "display_name": "Python 3"
    },
    "language_info": {
      "name": "python"
    }
  },
  "cells": [
    {
      "cell_type": "code",
      "execution_count": null,
      "metadata": {
        "id": "GphyBoNsiTsr"
      },
      "outputs": [],
      "source": [
        "#1 What are data structures, and why are they important ?\n",
        "\n",
        "# Data structure is the way of organising,storing and managing the data efficiently.\n",
        "\n",
        "# It is important to have different kind of data structure as per the requirement of the business.\n",
        "# Data structures are like containers which can contains multiple values in a single variable.\n",
        "\n",
        "# Some of the Data structures are :\n",
        "\n",
        "# list[]=> are ordered data type and we can access any values inside it using indices, mutable\n",
        "# tuple()=> are also ordered, and immutable\n",
        "# sets{}=> unordered data structure and mutable\n",
        "# Dictonaries{}=> ordered and mutable\n"
      ]
    },
    {
      "cell_type": "code",
      "source": [
        "#2 Explain the difference between mutable and immutable data types with examples\n",
        "\n",
        "# Mutable data types means once created it can be modified and updated again\n",
        "# Immutable means once variable is created it can not be updated or modified again\n",
        "\n",
        "# Mutable => List,Sets Dictonaries\n",
        "# Immutable => Tuples\n",
        "\n",
        "# Mutable list\n",
        "l1=[1,2,3]\n",
        "print(\"List before updation \", l1)\n",
        "\n",
        "l1[1]=100\n",
        "print(\"Updated list is \",l1)\n",
        "\n",
        "# Immutable tuple\n",
        "t1=(1,2,3)\n",
        "t1[0]=500"
      ],
      "metadata": {
        "colab": {
          "base_uri": "https://localhost:8080/",
          "height": 210
        },
        "id": "sAUqGfQPwBUk",
        "outputId": "891c3bb1-4c2f-4b7b-b574-81faf40eb82d"
      },
      "execution_count": null,
      "outputs": [
        {
          "output_type": "stream",
          "name": "stdout",
          "text": [
            "List before updation  [1, 2, 3]\n",
            "Updated list is  [1, 100, 3]\n"
          ]
        },
        {
          "output_type": "error",
          "ename": "TypeError",
          "evalue": "'tuple' object does not support item assignment",
          "traceback": [
            "\u001b[0;31m---------------------------------------------------------------------------\u001b[0m",
            "\u001b[0;31mTypeError\u001b[0m                                 Traceback (most recent call last)",
            "\u001b[0;32m<ipython-input-12-1629380731>\u001b[0m in \u001b[0;36m<cell line: 0>\u001b[0;34m()\u001b[0m\n\u001b[1;32m     16\u001b[0m \u001b[0;31m# Immutable tuple\u001b[0m\u001b[0;34m\u001b[0m\u001b[0;34m\u001b[0m\u001b[0m\n\u001b[1;32m     17\u001b[0m \u001b[0mt1\u001b[0m\u001b[0;34m=\u001b[0m\u001b[0;34m(\u001b[0m\u001b[0;36m1\u001b[0m\u001b[0;34m,\u001b[0m\u001b[0;36m2\u001b[0m\u001b[0;34m,\u001b[0m\u001b[0;36m3\u001b[0m\u001b[0;34m)\u001b[0m\u001b[0;34m\u001b[0m\u001b[0;34m\u001b[0m\u001b[0m\n\u001b[0;32m---> 18\u001b[0;31m \u001b[0mt1\u001b[0m\u001b[0;34m[\u001b[0m\u001b[0;36m0\u001b[0m\u001b[0;34m]\u001b[0m\u001b[0;34m=\u001b[0m\u001b[0;36m500\u001b[0m\u001b[0;34m\u001b[0m\u001b[0;34m\u001b[0m\u001b[0m\n\u001b[0m",
            "\u001b[0;31mTypeError\u001b[0m: 'tuple' object does not support item assignment"
          ]
        }
      ]
    },
    {
      "cell_type": "code",
      "source": [
        "#3 What are the main differences between lists and tuples in Python ?\n",
        "\n",
        "# list and tuple both can store homogenious data but the difference is\n",
        "\n",
        "# List is mutable where as tuples are immutable\n",
        "# list are used where we know that the data might change in coming future like Address\n",
        "# Tuples are used where data is fixed for life time Like AAdhar card, Unique Id's, Employee Ids etc\n",
        "\n",
        "# Tuples are memory efficient and way faster then lists\n",
        "\n"
      ],
      "metadata": {
        "id": "5cVjBViPwBc7"
      },
      "execution_count": null,
      "outputs": []
    },
    {
      "cell_type": "code",
      "source": [
        "#4 Describe how dictionaries store data\n",
        "\n",
        "# Dictonaries stores data in key value pair where keys are unique and immutable\n",
        "# and values can be duplicated and immutable\n",
        "# if the duplicated key is entered then the value of existing key will get updated with the new one but only 1 key will be there, no repetation\n",
        "# Overall dictonaries are mutable we can add or remove items\n",
        "\n",
        "# Example :\n",
        "\n",
        "dict1={'city':['Delhi','Mumbai','Goa']}\n",
        "dict1"
      ],
      "metadata": {
        "colab": {
          "base_uri": "https://localhost:8080/"
        },
        "id": "ZMagoO5dwBfz",
        "outputId": "50151606-15b1-4662-c378-ccce08d136ef"
      },
      "execution_count": null,
      "outputs": [
        {
          "output_type": "execute_result",
          "data": {
            "text/plain": [
              "{'city': ['Delhi', 'Mumbai', 'Goa']}"
            ]
          },
          "metadata": {},
          "execution_count": 13
        }
      ]
    },
    {
      "cell_type": "code",
      "source": [
        "#5 Why might you use a set instead of a list in Python\n",
        "\n",
        "# I will use set instead of list to remove the duplicacy.\n",
        "# sets are unordered and faster than list in terms of memory accessing\n",
        "\n",
        "# example: if we are having a grocesory list and all the family members are adding their needed items one by one. There are very high chances that the item name gets repeated,\n",
        "           # Si ti avoid duplicacy we use sets\n",
        "\n",
        "grocessory_list={'Mango','Bread','Butter','Peas','curd','Butter','Bread'}\n",
        "print(\"Avoiding Duplicacy => \", grocessory_list, '\\n')\n",
        "\n",
        "l1=['Mango','Bread','Butter','Peas','curd','Butter','Bread']\n",
        "print(\"Duplicate values are being repeated  => \", l1)\n"
      ],
      "metadata": {
        "id": "A6cvFCsBwBid",
        "colab": {
          "base_uri": "https://localhost:8080/"
        },
        "outputId": "d244e8f2-b3b2-46c7-d26c-f557dff8d57b"
      },
      "execution_count": 17,
      "outputs": [
        {
          "output_type": "stream",
          "name": "stdout",
          "text": [
            "Avoiding Duplicacy =>  {'Mango', 'Bread', 'curd', 'Peas', 'Butter'} \n",
            "\n",
            "Duplicate values are being repeated  =>  ['Mango', 'Bread', 'Butter', 'Peas', 'curd', 'Butter', 'Bread']\n"
          ]
        }
      ]
    },
    {
      "cell_type": "code",
      "source": [
        "#6 What is a string in Python, and how is it different from a list?\n",
        "\n",
        "# A string is a collection of characters, list can have multiples type of data items at a time but strings can only have character type data\n",
        "\n",
        "# Strings are immutable while lists are mutable\n",
        "\n",
        "\n",
        "l1=['laptop','Mac_book']\n",
        "l1.append('Computer')\n",
        "l1\n",
        "\n",
        "\n",
        "# s1=\"Hello World\"\n",
        "# s1[1]='pp'   # This will cause error"
      ],
      "metadata": {
        "id": "Kp7wxbpwwBlK",
        "colab": {
          "base_uri": "https://localhost:8080/"
        },
        "outputId": "6355e62c-fba0-4ea4-cd7a-7b1c3c4c2ff1"
      },
      "execution_count": 13,
      "outputs": [
        {
          "output_type": "execute_result",
          "data": {
            "text/plain": [
              "['laptop', 'Mac_book', 'Computer']"
            ]
          },
          "metadata": {},
          "execution_count": 13
        }
      ]
    },
    {
      "cell_type": "code",
      "source": [
        "#7 How do tuples ensure data integrity in Python ?\n",
        "\n",
        "# Data Integrity means the way data is being stored in the initial time it should be same through out the life cycle . It shold not be changed, manipulated at any point of time.\n",
        "\n",
        "# Tuples => are immutable, which means once created it can not be modified or updated and this immutability helps tuple to retain data integrity\n",
        "\n",
        "# Example => Tuples are used where the data is fixed, it is not going to be changed once created like AAdhar card, Emp id etc\n",
        "\n",
        "# tup=(235545687895,)\n",
        "# tup[0]=1\n"
      ],
      "metadata": {
        "id": "P7gVE7aawBny"
      },
      "execution_count": 19,
      "outputs": []
    },
    {
      "cell_type": "code",
      "source": [
        "#8 What is a hash table, and how does it relate to dictionaries in Python ?\n",
        "\n",
        "# A hash table is a function which convertes keys into numerical values using hash function and these numerical values later used to store and retrieve data efficiently.\n",
        "# Dictonary uses hash table to store the data in key value pair\n",
        "\n",
        "# We can understand this procees like => KEY --> Hash function --> Index\n",
        "#                                                                 (Keys converted to Numerical value)\n"
      ],
      "metadata": {
        "id": "RliLovodwBqq"
      },
      "execution_count": null,
      "outputs": []
    },
    {
      "cell_type": "code",
      "source": [
        "#9 Can lists contain different data types in Python ?\n",
        "\n",
        "# Yes, list is a hetrogenious data type and it can store different types of data in one variable\n",
        "\n",
        "# Example =>\n",
        "l1=['Hi',1,11.1,'3x+4j']\n",
        "l1"
      ],
      "metadata": {
        "id": "DfK79aQDwBty",
        "colab": {
          "base_uri": "https://localhost:8080/"
        },
        "outputId": "c48620c5-4de4-46d3-b913-5a22693e4a05"
      },
      "execution_count": 3,
      "outputs": [
        {
          "output_type": "execute_result",
          "data": {
            "text/plain": [
              "['Hi', 1, 11.1, '3x+4j']"
            ]
          },
          "metadata": {},
          "execution_count": 3
        }
      ]
    },
    {
      "cell_type": "code",
      "source": [
        "#10 Explain why strings are immutable in Python ?\n",
        "\n",
        "# Strings are immutable because once created it cannot be modified again, dur to its immutable features strings are fast and efficient.\n",
        "# We can not modify the existing string but in case if any change is needed, we can do it using replace function, which will not modify the string instead it will create the new string\n",
        "# in different address with the required changes.\n",
        "\n",
        "st=' Hi My name is Rohit'\n",
        "st\n",
        "print(id(st))\n",
        "ss=st.replace('Rohit','Ravi')\n",
        "print(id(ss))"
      ],
      "metadata": {
        "id": "5Vs5xDavwBw0",
        "colab": {
          "base_uri": "https://localhost:8080/"
        },
        "outputId": "ca3265b2-1d22-4013-d738-6657f46bfa68"
      },
      "execution_count": 9,
      "outputs": [
        {
          "output_type": "stream",
          "name": "stdout",
          "text": [
            "134358196922736\n",
            "134358203516768\n"
          ]
        }
      ]
    },
    {
      "cell_type": "code",
      "source": [
        "#11 What advantages do dictionaries offer over lists for certain tasks?\n",
        "\n",
        "# List stores the data in sequential form where as Dictionaries stores the data in Key value pair which is more organised.\n",
        "# List can have duplicacy is data but in dictionaries key can never be identical where as values can have duplicate values\n",
        "# In dictioaries we can simply retrive the data with the help of key, where as in list we need to remember the index to fetch some particular data"
      ],
      "metadata": {
        "id": "SRAXOp6lwBzy"
      },
      "execution_count": null,
      "outputs": []
    },
    {
      "cell_type": "code",
      "source": [
        "#12 Describe a scenario where using a tuple would be preferable over a list ?\n",
        "\n",
        "# Tuples are used where data is of unchangable nature,where data should not be modified at any point of time  like employee id, aadhar cards etc.\n",
        "# SInce lists are mutable it can not be used to store the highly secured data."
      ],
      "metadata": {
        "id": "n_hyX4K9wB2q"
      },
      "execution_count": null,
      "outputs": []
    },
    {
      "cell_type": "code",
      "source": [
        "#13 How do sets handle duplicate values in Python ?\n",
        "\n",
        "# Sets simply eliminates the duplicated data\n",
        "\n",
        "s1={1,1,1,2,2,3,3,3,3,4,4,5,5}\n",
        "s1"
      ],
      "metadata": {
        "id": "MkPVbng8wB5y",
        "colab": {
          "base_uri": "https://localhost:8080/"
        },
        "outputId": "1da50eee-7105-47c7-8d1e-79959f327fa6"
      },
      "execution_count": 11,
      "outputs": [
        {
          "output_type": "execute_result",
          "data": {
            "text/plain": [
              "{1, 2, 3, 4, 5}"
            ]
          },
          "metadata": {},
          "execution_count": 11
        }
      ]
    },
    {
      "cell_type": "code",
      "source": [
        "#14 How does the “in” keyword work differently for lists and dictionaries ?\n",
        "\n",
        "# \"in\" keyword is used to check membersip in list as well as dictionary but it works differently with both of them.\n",
        "# in case of list \"in\" will check whether the value exists or not\n",
        "\n",
        "# but in case of dictionary \"in\" will check whether the key exists or not. it will not directky checks for the values.\n",
        "\n",
        "\n",
        "l1=['A','v','c','d']\n",
        "print(\"List       : \",'v' in l1)\n",
        "\n",
        "dic={'Mummy': 9821272678,\n",
        "     'Papa': 8287361091}\n",
        "print(\"Dictionary : \",9821272678 in dic)\n",
        "\n",
        "\n",
        "# if we want to access the values in dictionary then we need to mention . values like:\n",
        "\n",
        "dic={'Mummy': 9821272678,\n",
        "     'Papa': 8287361091}\n",
        "print(\"Dictionary : \",9821272678 in dic.values())\n",
        "\n",
        "\n"
      ],
      "metadata": {
        "id": "_j5VPOPIwB8i",
        "colab": {
          "base_uri": "https://localhost:8080/"
        },
        "outputId": "798321d9-93ba-49ef-8eda-c8f3fe778091"
      },
      "execution_count": 29,
      "outputs": [
        {
          "output_type": "stream",
          "name": "stdout",
          "text": [
            "List       :  True\n",
            "Dictionary :  False\n",
            "Dictionary :  True\n"
          ]
        }
      ]
    },
    {
      "cell_type": "code",
      "source": [
        "#15 Can you modify the elements of a tuple? Explain why or why not ?\n",
        "\n",
        "# No, once created tuple's elements can not be modified. Tuples are immutable and secure which means once created its elements cannot be added removed or modified.\n",
        "\n",
        "# t1=(1,2,3)\n",
        "# t1.add(5)"
      ],
      "metadata": {
        "id": "8FDf8Am1wB_i"
      },
      "execution_count": 3,
      "outputs": []
    },
    {
      "cell_type": "code",
      "source": [
        "#16 What is a nested dictionary, and give an example of its use case ?\n",
        "\n",
        "# when we define dictionary inside dictionary it is known as nested dictionary.\n",
        "\n",
        "class_room={'Roll_1':{'name':'Rohit','age':15,'section':'A'},\n",
        "            'Roll_2':{'name':'Rahul','age':17,'section':'A'},\n",
        "            'Roll_no':{'name':'Ajay','class':19,'section':'A'}}\n",
        "\n",
        "class_room"
      ],
      "metadata": {
        "id": "mTC4h6TLwCCh",
        "colab": {
          "base_uri": "https://localhost:8080/"
        },
        "outputId": "09cce1cf-95d7-4581-b39f-24a0128e6a7b"
      },
      "execution_count": 4,
      "outputs": [
        {
          "output_type": "execute_result",
          "data": {
            "text/plain": [
              "{'Roll_1': {'name': 'Rohit', 'age': 15, 'section': 'A'},\n",
              " 'Roll_2': {'name': 'Rahul', 'age': 17, 'section': 'A'},\n",
              " 'Roll_no': {'name': 'Ajay', 'class': 19, 'section': 'A'}}"
            ]
          },
          "metadata": {},
          "execution_count": 4
        }
      ]
    },
    {
      "cell_type": "code",
      "source": [
        "class_room['Roll_1']"
      ],
      "metadata": {
        "id": "aWEHxY5pwCF5",
        "colab": {
          "base_uri": "https://localhost:8080/"
        },
        "outputId": "bb8114b4-07bf-4799-8c1d-5128221af3be"
      },
      "execution_count": 11,
      "outputs": [
        {
          "output_type": "execute_result",
          "data": {
            "text/plain": [
              "{'name': 'Rohit', 'age': 15, 'section': 'A'}"
            ]
          },
          "metadata": {},
          "execution_count": 11
        }
      ]
    },
    {
      "cell_type": "code",
      "source": [
        "#17 Describe the time complexity of accessing elements in a dictionary ?\n",
        "\n",
        "# Accessing elements in dictionary using key have an average time i.e 0(1), which means constant\n",
        "# No matter whether there 10 rows or 10 Million rows accessing time will be same for each one of them because in dictionary keys are passed through hash function which converts\n",
        "# these keys into numerical values(index) using which we can retrive the data faster than any other."
      ],
      "metadata": {
        "id": "t5RDA17bwCIq"
      },
      "execution_count": null,
      "outputs": []
    },
    {
      "cell_type": "code",
      "source": [
        "#18 In what situations are lists preferred over dictionaries?\n",
        "\n",
        "# When our data is simple and we just dont need any structure or label our data\n",
        "# When we care about the position of the elements like ranks\n",
        "# Where we can store duplicates too\n",
        "\n",
        "l1=['Ajay','Ravi','Rohit']\n",
        "l1"
      ],
      "metadata": {
        "id": "w2FWUbtRwCLi",
        "colab": {
          "base_uri": "https://localhost:8080/"
        },
        "outputId": "d14a18a7-dbcd-436a-d833-7e9d1e4f1fcc"
      },
      "execution_count": 12,
      "outputs": [
        {
          "output_type": "execute_result",
          "data": {
            "text/plain": [
              "['Ajay', 'Ravi', 'Rohit']"
            ]
          },
          "metadata": {},
          "execution_count": 12
        }
      ]
    },
    {
      "cell_type": "code",
      "source": [
        "#19 Why are dictionaries considered unordered, and how does that affect data retrieval ?\n",
        "\n",
        "# Beofore the version 3.7, dictionary did not guarantee any order because keys of the dictionaries gets converted into hash values first and then it gets stored based on hash values\n",
        "# not by insertion order\n",
        "# after 3.7 version items are returned in the same order they were stored.\n",
        "\n",
        "# This unordered feature actually helps alot in making dictionary fastest because of hash values , we don't need to remember the position of the elements."
      ],
      "metadata": {
        "id": "KcIrwiigwCOh"
      },
      "execution_count": null,
      "outputs": []
    },
    {
      "cell_type": "code",
      "source": [
        "#20 Explain the difference between a list and a dictionary in terms of data retrieval ?\n",
        "\n",
        "# Lists stores data in sequential order, User must need to remember index to retrive specific element i.e 0(1) average time, If we know the exact index\n",
        "# But if we don't know the index then average time will be 0(n), because then we need to run the loop and look for the data which will take much time\n",
        "\n",
        "# Dictionaries are stored using key value pairs, and each key is unique and is created after passing through the hash function.\n",
        "# No need to remember any index for data retrival, data is extracted using keys.\n",
        "\n"
      ],
      "metadata": {
        "id": "8Z4oqAxVwCR6"
      },
      "execution_count": null,
      "outputs": []
    },
    {
      "cell_type": "code",
      "source": [],
      "metadata": {
        "id": "23IBad4uwCd5"
      },
      "execution_count": null,
      "outputs": []
    },
    {
      "cell_type": "code",
      "source": [
        "#1. Write a code to create a string with your name and print it ?\n",
        "name='Rohit'\n",
        "print(name)\n"
      ],
      "metadata": {
        "colab": {
          "base_uri": "https://localhost:8080/"
        },
        "id": "SJXdFeOdiY91",
        "outputId": "a8586281-e230-4fa4-a467-01cc379e8dbd"
      },
      "execution_count": null,
      "outputs": [
        {
          "output_type": "stream",
          "name": "stdout",
          "text": [
            "Rohit\n"
          ]
        }
      ]
    },
    {
      "cell_type": "code",
      "source": [
        "#2. Write a code to find the length of the string \"Hello World\" ?\n",
        "\n",
        "var=\"Hello World\"\n",
        "print(len(var))\n"
      ],
      "metadata": {
        "colab": {
          "base_uri": "https://localhost:8080/"
        },
        "id": "8--vxO32i1iF",
        "outputId": "e65381e8-605f-44a2-d149-631f6aac1da8"
      },
      "execution_count": null,
      "outputs": [
        {
          "output_type": "stream",
          "name": "stdout",
          "text": [
            "11\n"
          ]
        }
      ]
    },
    {
      "cell_type": "code",
      "source": [
        "#3 Write a code to slice the first 3 characters from the string \"Python Programming\" ?\n",
        "\n",
        "a=\"Python Programming\"\n",
        "a[0:3]"
      ],
      "metadata": {
        "colab": {
          "base_uri": "https://localhost:8080/",
          "height": 35
        },
        "id": "DCOnxPpqjM9y",
        "outputId": "5908d267-1590-4997-8a2f-f1adee9ba535"
      },
      "execution_count": null,
      "outputs": [
        {
          "output_type": "execute_result",
          "data": {
            "text/plain": [
              "'Pyt'"
            ],
            "application/vnd.google.colaboratory.intrinsic+json": {
              "type": "string"
            }
          },
          "metadata": {},
          "execution_count": 4
        }
      ]
    },
    {
      "cell_type": "code",
      "source": [
        "#4 Write a code to convert the string \"hello\" to uppercase ?\n",
        "\n",
        "a='hello'\n",
        "a.upper()\n",
        "\n"
      ],
      "metadata": {
        "colab": {
          "base_uri": "https://localhost:8080/",
          "height": 35
        },
        "id": "oCG92w1SjaSz",
        "outputId": "3091d71b-2b5b-490a-8509-426305375072"
      },
      "execution_count": null,
      "outputs": [
        {
          "output_type": "execute_result",
          "data": {
            "text/plain": [
              "'HELLO'"
            ],
            "application/vnd.google.colaboratory.intrinsic+json": {
              "type": "string"
            }
          },
          "metadata": {},
          "execution_count": 5
        }
      ]
    },
    {
      "cell_type": "code",
      "source": [
        "#5 Write a code to replace the word \"apple\" with \"orange\" in the string \"I like apple\" ?\n",
        "\n",
        "a=\"I like apple\"\n",
        "a.replace('apple','orange')"
      ],
      "metadata": {
        "colab": {
          "base_uri": "https://localhost:8080/",
          "height": 35
        },
        "id": "BK7B9Ub-jk5z",
        "outputId": "d2c7d365-ff30-4e50-d4f4-b1d495fad2bb"
      },
      "execution_count": null,
      "outputs": [
        {
          "output_type": "execute_result",
          "data": {
            "text/plain": [
              "'I like orange'"
            ],
            "application/vnd.google.colaboratory.intrinsic+json": {
              "type": "string"
            }
          },
          "metadata": {},
          "execution_count": 6
        }
      ]
    },
    {
      "cell_type": "code",
      "source": [
        "#6  Write a code to create a list with numbers 1 to 5 and print it?\n",
        "\n",
        "print(list(range(1,6)))\n"
      ],
      "metadata": {
        "colab": {
          "base_uri": "https://localhost:8080/"
        },
        "id": "I6o-_rCsj3qz",
        "outputId": "2e3b2ede-a7cd-4f04-b591-7707bf8f0063"
      },
      "execution_count": null,
      "outputs": [
        {
          "output_type": "stream",
          "name": "stdout",
          "text": [
            "[1, 2, 3, 4, 5]\n"
          ]
        }
      ]
    },
    {
      "cell_type": "code",
      "source": [
        "#7 Write a code to append the number 10 to the list [1, 2, 3, 4] ?\n",
        "\n",
        "l1=[1,2,3,4]\n",
        "l1.append(10)\n",
        "l1"
      ],
      "metadata": {
        "colab": {
          "base_uri": "https://localhost:8080/"
        },
        "id": "gsWJJvsdkHRS",
        "outputId": "afaf648b-34ef-4111-ef32-c1fe44fb8e9d"
      },
      "execution_count": null,
      "outputs": [
        {
          "output_type": "execute_result",
          "data": {
            "text/plain": [
              "[1, 2, 3, 4, 10]"
            ]
          },
          "metadata": {},
          "execution_count": 16
        }
      ]
    },
    {
      "cell_type": "code",
      "source": [
        "#8 Write a code to remove the number 3 from the list [1, 2, 3, 4, 5] ?\n",
        "\n",
        "l2=[1,2,3,4,5]\n",
        "l2.remove(3)\n",
        "l2"
      ],
      "metadata": {
        "colab": {
          "base_uri": "https://localhost:8080/"
        },
        "id": "9k0oHtXXkrui",
        "outputId": "091cb660-408f-4274-d6b7-be5247e8be4b"
      },
      "execution_count": null,
      "outputs": [
        {
          "output_type": "execute_result",
          "data": {
            "text/plain": [
              "[1, 2, 4, 5]"
            ]
          },
          "metadata": {},
          "execution_count": 18
        }
      ]
    },
    {
      "cell_type": "code",
      "source": [
        "#9 Write a code to access the second element in the list ['a', 'b', 'c', 'd'] ?\n",
        "\n",
        "l3=['a','b','c','d']\n",
        "l3[1]"
      ],
      "metadata": {
        "colab": {
          "base_uri": "https://localhost:8080/",
          "height": 35
        },
        "id": "Mry9I5rqk6vT",
        "outputId": "267efd7f-33be-4b71-aa67-687ad29cd3c6"
      },
      "execution_count": null,
      "outputs": [
        {
          "output_type": "execute_result",
          "data": {
            "text/plain": [
              "'b'"
            ],
            "application/vnd.google.colaboratory.intrinsic+json": {
              "type": "string"
            }
          },
          "metadata": {},
          "execution_count": 19
        }
      ]
    },
    {
      "cell_type": "code",
      "source": [
        "#10 Write a code to reverse the list [10, 20, 30, 40, 50] ?\n",
        "\n",
        "l1=[10, 20, 30, 40, 50]\n",
        "l1[::-1]\n",
        "\n"
      ],
      "metadata": {
        "colab": {
          "base_uri": "https://localhost:8080/"
        },
        "id": "1ymtOncwlM9T",
        "outputId": "e6664c36-104d-4510-9b12-61d9118f1335"
      },
      "execution_count": null,
      "outputs": [
        {
          "output_type": "execute_result",
          "data": {
            "text/plain": [
              "[50, 40, 30, 20, 10]"
            ]
          },
          "metadata": {},
          "execution_count": 20
        }
      ]
    },
    {
      "cell_type": "code",
      "source": [
        "#11 Write a code to create a tuple with the elements 100, 200, 300 and print it ?\n",
        "\n",
        "tup=(100,200,300)\n",
        "tup"
      ],
      "metadata": {
        "colab": {
          "base_uri": "https://localhost:8080/"
        },
        "id": "9OIXPhRTlnJz",
        "outputId": "5ef1e9f4-1cd0-4893-b5b1-f3dc4ac58645"
      },
      "execution_count": null,
      "outputs": [
        {
          "output_type": "execute_result",
          "data": {
            "text/plain": [
              "(100, 200, 300)"
            ]
          },
          "metadata": {},
          "execution_count": 24
        }
      ]
    },
    {
      "cell_type": "code",
      "source": [
        "#12. Write a code to access the second-to-last element of the tuple ('red', 'green', 'blue', 'yellow').\n",
        "\n",
        "t1=('red', 'green', 'blue', 'yellow')\n",
        "t1[-2]"
      ],
      "metadata": {
        "colab": {
          "base_uri": "https://localhost:8080/",
          "height": 35
        },
        "id": "MByoUFPqlylD",
        "outputId": "137faab8-5541-439b-cb83-24c75658c587"
      },
      "execution_count": null,
      "outputs": [
        {
          "output_type": "execute_result",
          "data": {
            "text/plain": [
              "'blue'"
            ],
            "application/vnd.google.colaboratory.intrinsic+json": {
              "type": "string"
            }
          },
          "metadata": {},
          "execution_count": 27
        }
      ]
    },
    {
      "cell_type": "code",
      "source": [
        "#13. Write a code to find the minimum number in the tuple (10, 20, 5, 15).\n",
        "\n",
        "t2=(10, 20, 5, 15)\n",
        "min(t2)"
      ],
      "metadata": {
        "colab": {
          "base_uri": "https://localhost:8080/"
        },
        "id": "29hrlXBmmBjD",
        "outputId": "d1dbe826-c441-4e4d-975e-ff5635c16632"
      },
      "execution_count": null,
      "outputs": [
        {
          "output_type": "execute_result",
          "data": {
            "text/plain": [
              "5"
            ]
          },
          "metadata": {},
          "execution_count": 29
        }
      ]
    },
    {
      "cell_type": "code",
      "source": [
        "#14. Write a code to find the index of the element \"cat\" in the tuple ('dog', 'cat', 'rabbit').\n",
        "\n",
        "t2=('dog', 'cat', 'rabbit')\n",
        "t2.index('cat')"
      ],
      "metadata": {
        "colab": {
          "base_uri": "https://localhost:8080/"
        },
        "id": "ugKCIDkKmYcj",
        "outputId": "80c34b63-d7a9-41cd-c6e4-a9a6e9b68e47"
      },
      "execution_count": null,
      "outputs": [
        {
          "output_type": "execute_result",
          "data": {
            "text/plain": [
              "1"
            ]
          },
          "metadata": {},
          "execution_count": 30
        }
      ]
    },
    {
      "cell_type": "code",
      "source": [
        "#15. Write a code to create a tuple containing three different fruits and check if \"kiwi\" is in it.\n",
        "\n",
        "t3=('Mango','Banana','Orange')\n",
        "print('kiwi' in t3)"
      ],
      "metadata": {
        "colab": {
          "base_uri": "https://localhost:8080/"
        },
        "id": "10VzVp_dmxYz",
        "outputId": "57aa930a-2e07-408b-9343-afb8f8c413c8"
      },
      "execution_count": null,
      "outputs": [
        {
          "output_type": "stream",
          "name": "stdout",
          "text": [
            "False\n"
          ]
        }
      ]
    },
    {
      "cell_type": "code",
      "source": [
        "#16. Write a code to create a set with the elements 'a', 'b', 'c' and print it.\n",
        "s1={'a','b','c'}\n",
        "print(type(s1),s1 )"
      ],
      "metadata": {
        "colab": {
          "base_uri": "https://localhost:8080/"
        },
        "id": "Ww0yHEDVnJHD",
        "outputId": "5ae52755-655c-4040-9798-128a3cd244c9"
      },
      "execution_count": null,
      "outputs": [
        {
          "output_type": "stream",
          "name": "stdout",
          "text": [
            "<class 'set'> {'b', 'c', 'a'}\n"
          ]
        }
      ]
    },
    {
      "cell_type": "code",
      "source": [
        "#17. Write a code to clear all elements from the set {1, 2, 3, 4, 5}.\n",
        "\n",
        "s2={1, 2, 3, 4, 5}\n",
        "s2.clear()"
      ],
      "metadata": {
        "id": "9KhPcJX7nZwj"
      },
      "execution_count": null,
      "outputs": []
    },
    {
      "cell_type": "code",
      "source": [
        "s2"
      ],
      "metadata": {
        "colab": {
          "base_uri": "https://localhost:8080/"
        },
        "id": "tsowyysPniMD",
        "outputId": "75b1ff31-b8aa-408c-d87e-2c9144989b85"
      },
      "execution_count": null,
      "outputs": [
        {
          "output_type": "execute_result",
          "data": {
            "text/plain": [
              "set()"
            ]
          },
          "metadata": {},
          "execution_count": 35
        }
      ]
    },
    {
      "cell_type": "code",
      "source": [
        "#18. Write a code to remove the element 4 from the set {1, 2, 3, 4}.\n",
        "\n",
        "s2={1, 2, 3, 4}\n",
        "s2.discard(4)\n",
        "#s2.remove(4)\n",
        "s2"
      ],
      "metadata": {
        "colab": {
          "base_uri": "https://localhost:8080/"
        },
        "id": "z_e77k2hni2T",
        "outputId": "af771df1-acde-4d33-d4b7-4b52477dc3ef"
      },
      "execution_count": null,
      "outputs": [
        {
          "output_type": "execute_result",
          "data": {
            "text/plain": [
              "{1, 2, 3}"
            ]
          },
          "metadata": {},
          "execution_count": 40
        }
      ]
    },
    {
      "cell_type": "code",
      "source": [
        "#19. Write a code to find the union of two sets {1, 2, 3} and {3, 4, 5}.\n",
        "\n",
        "s3={1, 2, 3}\n",
        "s4={3, 4, 5}\n",
        "\n",
        "print(s3.union(s4))\n",
        "s3 | s4"
      ],
      "metadata": {
        "colab": {
          "base_uri": "https://localhost:8080/"
        },
        "id": "sVIhWhJNnviz",
        "outputId": "4aff22f4-7ed6-499c-accd-57db3c9dd0ad"
      },
      "execution_count": null,
      "outputs": [
        {
          "output_type": "stream",
          "name": "stdout",
          "text": [
            "{1, 2, 3, 4, 5}\n"
          ]
        },
        {
          "output_type": "execute_result",
          "data": {
            "text/plain": [
              "{1, 2, 3, 4, 5}"
            ]
          },
          "metadata": {},
          "execution_count": 46
        }
      ]
    },
    {
      "cell_type": "code",
      "source": [
        "#20. Write a code to find the intersection of two sets {1, 2, 3} and {2, 3, 4}.\n",
        "\n",
        "s1={1, 2, 3}\n",
        "s2={2, 3, 4}\n",
        "\n",
        "s1.intersection(s2)\n",
        "print(s1 & s2)"
      ],
      "metadata": {
        "colab": {
          "base_uri": "https://localhost:8080/"
        },
        "id": "q6fW0e3pnxFz",
        "outputId": "916d6fd8-f5a1-411d-f045-d1c4a1ad619d"
      },
      "execution_count": null,
      "outputs": [
        {
          "output_type": "stream",
          "name": "stdout",
          "text": [
            "{2, 3}\n"
          ]
        }
      ]
    },
    {
      "cell_type": "code",
      "source": [
        "#21. Write a code to create a dictionary with the keys \"name\", \"age\", and \"city\", and print it.\n",
        "\n",
        "dict={'name': 'Rohit',\n",
        "      'age':26,\n",
        "      'city':'New Delhi'}\n",
        "\n",
        "dict"
      ],
      "metadata": {
        "colab": {
          "base_uri": "https://localhost:8080/"
        },
        "id": "DP3yABAxo2XU",
        "outputId": "034ae6f8-6fdf-4233-b583-c82e6d1700f7"
      },
      "execution_count": null,
      "outputs": [
        {
          "output_type": "execute_result",
          "data": {
            "text/plain": [
              "{'name': 'Rohit', 'age': 26, 'city': 'New Delhi'}"
            ]
          },
          "metadata": {},
          "execution_count": 53
        }
      ]
    },
    {
      "cell_type": "code",
      "source": [
        "#22. Write a code to add a new key-value pair \"country\": \"USA\" to the dictionary {'name': 'John', 'age': 25}.\n",
        "\n",
        "dic2={'name': 'John', 'age': 25}\n",
        "#dic2.update({'country':'USA'})\n",
        "dic2['Country']='USA'\n",
        "dic2\n"
      ],
      "metadata": {
        "colab": {
          "base_uri": "https://localhost:8080/"
        },
        "id": "Xhet7ypkpmh0",
        "outputId": "958453c3-3c0b-4b1b-f7c8-5042dfdfd6e7"
      },
      "execution_count": null,
      "outputs": [
        {
          "output_type": "execute_result",
          "data": {
            "text/plain": [
              "{'name': 'John', 'age': 25, 'Country': 'USA'}"
            ]
          },
          "metadata": {},
          "execution_count": 64
        }
      ]
    },
    {
      "cell_type": "code",
      "source": [
        "#23. Write a code to access the value associated with the key \"name\" in the dictionary {'name': 'Alice', 'age': 30}.\n",
        "\n",
        "d1={'name': 'Alice', 'age': 30}\n",
        "d1['name']"
      ],
      "metadata": {
        "colab": {
          "base_uri": "https://localhost:8080/",
          "height": 35
        },
        "id": "T-PgiGBKqD1j",
        "outputId": "20cc59c6-53c7-4568-d0bb-80a70a36fc8c"
      },
      "execution_count": null,
      "outputs": [
        {
          "output_type": "execute_result",
          "data": {
            "text/plain": [
              "'Alice'"
            ],
            "application/vnd.google.colaboratory.intrinsic+json": {
              "type": "string"
            }
          },
          "metadata": {},
          "execution_count": 61
        }
      ]
    },
    {
      "cell_type": "code",
      "source": [
        "# 24. Write a code to remove the key \"age\" from the dictionary {'name': 'Bob', 'age': 22, 'city': 'New York'}.\n",
        "\n",
        "d2={'name': 'Bob', 'age': 22, 'city': 'New York'}\n",
        "del d2['age']\n",
        "d2"
      ],
      "metadata": {
        "colab": {
          "base_uri": "https://localhost:8080/"
        },
        "id": "6as29Ty2qtaU",
        "outputId": "b1d238c2-173d-4c98-9271-f1b73facfcb2"
      },
      "execution_count": null,
      "outputs": [
        {
          "output_type": "execute_result",
          "data": {
            "text/plain": [
              "{'name': 'Bob', 'city': 'New York'}"
            ]
          },
          "metadata": {},
          "execution_count": 67
        }
      ]
    },
    {
      "cell_type": "code",
      "source": [
        "#25. Write a code to check if the key \"city\" exists in the dictionary {'name': 'Alice', 'city': 'Paris'}.\n",
        "\n",
        "d3={'name': 'Alice', 'city': 'Paris'}\n",
        "'city' in d3"
      ],
      "metadata": {
        "colab": {
          "base_uri": "https://localhost:8080/"
        },
        "id": "K4byboXhteZk",
        "outputId": "5badfdd9-88a0-4ac0-e612-8372b821fb01"
      },
      "execution_count": null,
      "outputs": [
        {
          "output_type": "execute_result",
          "data": {
            "text/plain": [
              "True"
            ]
          },
          "metadata": {},
          "execution_count": 68
        }
      ]
    },
    {
      "cell_type": "code",
      "source": [
        "#26. Write a code to create a list, a tuple, and a dictionary, and print them all.\n",
        "\n",
        "l1=[1,2,3,'a','b']\n",
        "tup=(1,2,3,'a','b')\n",
        "dictn={'name':'Rohit',\n",
        "       'age':26}\n",
        "\n",
        "print(\"list values are : \", l1)\n",
        "print(\"Tuple values are : \", tup)\n",
        "print(\"Dictonary values are : \", dictn)"
      ],
      "metadata": {
        "colab": {
          "base_uri": "https://localhost:8080/"
        },
        "id": "rPNq4rh4t1Vk",
        "outputId": "6368a602-55e9-4d9d-ab0d-112f31fbf391"
      },
      "execution_count": null,
      "outputs": [
        {
          "output_type": "stream",
          "name": "stdout",
          "text": [
            "list values are :  [1, 2, 3, 'a', 'b']\n",
            "Tuple values are :  (1, 2, 3, 'a', 'b')\n",
            "Dictonary values are :  {'name': 'Rohit', 'age': 26}\n"
          ]
        }
      ]
    },
    {
      "cell_type": "code",
      "source": [
        "#27. Write a code to create a list of 5 random numbers between 1 and 100, sort it in ascending order, and print the result.(replaced)\n",
        "\n",
        "l1=[10,15,20,55,98]\n",
        "sorted(l1)"
      ],
      "metadata": {
        "colab": {
          "base_uri": "https://localhost:8080/"
        },
        "id": "VARjTGkbud_V",
        "outputId": "bdd99a60-4865-4c54-9b0d-2e9630b7717f"
      },
      "execution_count": null,
      "outputs": [
        {
          "output_type": "execute_result",
          "data": {
            "text/plain": [
              "[10, 15, 20, 55, 98]"
            ]
          },
          "metadata": {},
          "execution_count": 71
        }
      ]
    },
    {
      "cell_type": "code",
      "source": [
        "#28. Write a code to create a list with strings and print the element at the third index.\n",
        "\n",
        "a=['Laptop','Bike','Computer','Mobile']\n",
        "a[2]"
      ],
      "metadata": {
        "colab": {
          "base_uri": "https://localhost:8080/",
          "height": 35
        },
        "id": "d-ttMCMYuz-F",
        "outputId": "b831a77c-a4a5-42ab-a5cf-473f95fc7aa0"
      },
      "execution_count": null,
      "outputs": [
        {
          "output_type": "execute_result",
          "data": {
            "text/plain": [
              "'Computer'"
            ],
            "application/vnd.google.colaboratory.intrinsic+json": {
              "type": "string"
            }
          },
          "metadata": {},
          "execution_count": 78
        }
      ]
    },
    {
      "cell_type": "code",
      "source": [
        "#29. Write a code to combine two dictionaries into one and print the result.\n",
        "\n",
        "dict1={'name':'Rohit',\n",
        "       'age':26}\n",
        "\n",
        "dict2={'country':'INDIA',\n",
        "       'year':2026}\n",
        "\n",
        "dict1.update(dict2)\n",
        "dict1"
      ],
      "metadata": {
        "id": "0mkObrb5vKC1",
        "colab": {
          "base_uri": "https://localhost:8080/"
        },
        "outputId": "111a6881-b0d3-4ed9-cd79-a84d961075bd"
      },
      "execution_count": null,
      "outputs": [
        {
          "output_type": "execute_result",
          "data": {
            "text/plain": [
              "{'name': 'Rohit', 'age': 26, 'country': 'INDIA', 'year': 2026}"
            ]
          },
          "metadata": {},
          "execution_count": 6
        }
      ]
    },
    {
      "cell_type": "code",
      "source": [
        "#30. Write a code to convert a list of strings into a set.\n",
        "\n",
        "l1=['mango','banana','orange']\n",
        "l1=set(l1)\n",
        "l1"
      ],
      "metadata": {
        "id": "qtrUTN5gvb4l",
        "colab": {
          "base_uri": "https://localhost:8080/"
        },
        "outputId": "41442508-42e6-4d94-e98a-c8912271d620"
      },
      "execution_count": null,
      "outputs": [
        {
          "output_type": "execute_result",
          "data": {
            "text/plain": [
              "{'banana', 'mango', 'orange'}"
            ]
          },
          "metadata": {},
          "execution_count": 2
        }
      ]
    },
    {
      "cell_type": "code",
      "source": [],
      "metadata": {
        "id": "v2HNw82VrAy8"
      },
      "execution_count": null,
      "outputs": []
    }
  ]
}